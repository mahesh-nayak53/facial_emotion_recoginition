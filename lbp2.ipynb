{
 "cells": [
  {
   "cell_type": "code",
   "execution_count": 2,
   "metadata": {},
   "outputs": [],
   "source": [
    "import os\n",
    "import cv2\n",
    "import numpy as np\n",
    "from skimage.feature import local_binary_pattern, hog\n",
    "from sklearn.ensemble import RandomForestClassifier\n",
    "from sklearn.svm import SVC\n",
    "from sklearn.decomposition import PCA\n",
    "from sklearn.model_selection import GridSearchCV, StratifiedKFold\n",
    "from sklearn.preprocessing import StandardScaler\n",
    "from sklearn.metrics import accuracy_score, classification_report, confusion_matrix\n",
    "import seaborn as sns\n",
    "import matplotlib.pyplot as plt"
   ]
  },
  {
   "cell_type": "markdown",
   "metadata": {},
   "source": [
    "feature extraction"
   ]
  },
  {
   "cell_type": "code",
   "execution_count": 3,
   "metadata": {},
   "outputs": [],
   "source": [
    "def get_features(image, radii=None, n_points_multiplier=8, method='uniform', normalize=True):\n",
    "    if radii is None:\n",
    "        radii = [1, 2, 3]\n",
    "\n",
    "    gray_image = cv2.cvtColor(image, cv2.COLOR_BGR2GRAY)\n",
    "\n",
    "    clahe = cv2.createCLAHE(clipLimit=2.0, tileGridSize=(8, 8))\n",
    "    gray_image = clahe.apply(gray_image)\n",
    "\n",
    "    lbp_features = []\n",
    "\n",
    "    for radius in radii:\n",
    "        n_points = n_points_multiplier * radius\n",
    "        lbp_image = local_binary_pattern(gray_image, n_points, radius, method)\n",
    "        lbp_histogram, _ = np.histogram(\n",
    "            lbp_image.ravel(), bins=np.arange(0, n_points + 3), range=(0, n_points + 2)\n",
    "        )\n",
    "        lbp_histogram = lbp_histogram.astype(\"float\") / (lbp_histogram.sum() + 1e-6)\n",
    "        lbp_features.append(lbp_histogram)\n",
    "\n",
    "    lbp_feature = np.concatenate(lbp_features)\n",
    "\n",
    "    hog_features = hog(gray_image, orientations=9, pixels_per_cell=(8, 8), \n",
    "                        cells_per_block=(2, 2), block_norm='L2-Hys')\n",
    "\n",
    "\n",
    "    return np.concatenate((lbp_feature, hog_features))\n"
   ]
  },
  {
   "cell_type": "markdown",
   "metadata": {},
   "source": [
    "data processing"
   ]
  },
  {
   "cell_type": "code",
   "execution_count": 4,
   "metadata": {},
   "outputs": [],
   "source": [
    "\n",
    "def processed_data(data_dir, label_map):\n",
    "    features, labels = [], []\n",
    "\n",
    "    for label_name in os.listdir(data_dir):\n",
    "        label_path = os.path.join(data_dir, label_name)\n",
    "\n",
    "        if not os.path.isdir(label_path):\n",
    "            continue\n",
    "\n",
    "        label_idx = label_map[label_name]\n",
    "\n",
    "        for image_name in os.listdir(label_path):\n",
    "            image_path = os.path.join(label_path, image_name)\n",
    "            image = cv2.imread(image_path)\n",
    "\n",
    "            if image is not None:\n",
    "                features.append(get_features(image))\n",
    "                labels.append(label_idx)\n",
    "\n",
    "    return np.array(features), np.array(labels)\n",
    "\n",
    "label_map = {'Angry': 0, 'Happy': 1, 'Sad': 2}\n",
    "train_data_dir = r'C:\\Users\\mahes\\OneDrive\\Desktop\\projects\\training'\n",
    "test_data_dir = r'C:\\Users\\mahes\\OneDrive\\Desktop\\projects\\testing'\n",
    "\n",
    "X_train, y_train = processed_data(train_data_dir, label_map)\n",
    "X_test, y_test = processed_data(test_data_dir, label_map)\n",
    "\n",
    "scaler = StandardScaler()\n",
    "X_train = scaler.fit_transform(X_train)\n",
    "X_test = scaler.transform(X_test)\n",
    "\n",
    "pca = PCA(n_components=100) \n",
    "X_train = pca.fit_transform(X_train)\n",
    "X_test = pca.transform(X_test)\n",
    "\n"
   ]
  },
  {
   "cell_type": "markdown",
   "metadata": {},
   "source": [
    "model trainig and evalute"
   ]
  },
  {
   "cell_type": "code",
   "execution_count": 5,
   "metadata": {},
   "outputs": [],
   "source": [
    "def train_and_evaluate_model(model, model_name):\n",
    "    model.fit(X_train, y_train)\n",
    "    y_pred = model.predict(X_test)\n",
    "    accuracy = accuracy_score(y_test, y_pred)\n",
    "\n",
    "    print(f\"{model_name} Accuracy: {accuracy * 100:.2f}%\")\n",
    "    print(classification_report(y_test, y_pred))\n",
    "\n",
    "  \n"
   ]
  },
  {
   "cell_type": "markdown",
   "metadata": {},
   "source": [
    "classifiers"
   ]
  },
  {
   "cell_type": "code",
   "execution_count": 6,
   "metadata": {},
   "outputs": [
    {
     "name": "stdout",
     "output_type": "stream",
     "text": [
      "Random Forest Accuracy: 62.69%\n",
      "              precision    recall  f1-score   support\n",
      "\n",
      "           0       0.76      0.26      0.39       956\n",
      "           1       0.62      0.91      0.74      1774\n",
      "           2       0.59      0.50      0.54      1247\n",
      "\n",
      "    accuracy                           0.63      3977\n",
      "   macro avg       0.66      0.56      0.56      3977\n",
      "weighted avg       0.65      0.63      0.60      3977\n",
      "\n",
      "SVM Hyperparameters: {'C': 10, 'gamma': 'scale', 'kernel': 'rbf'}\n",
      "SVM Accuracy: 69.98%\n",
      "              precision    recall  f1-score   support\n",
      "\n",
      "           0       0.58      0.54      0.56       956\n",
      "           1       0.80      0.83      0.82      1774\n",
      "           2       0.63      0.63      0.63      1247\n",
      "\n",
      "    accuracy                           0.70      3977\n",
      "   macro avg       0.67      0.67      0.67      3977\n",
      "weighted avg       0.70      0.70      0.70      3977\n",
      "\n"
     ]
    }
   ],
   "source": [
    "\n",
    "rf_model = RandomForestClassifier(n_estimators=1000, max_depth=20, min_samples_split=5, random_state=42)\n",
    "train_and_evaluate_model(rf_model, \"Random Forest\")\n",
    "\n",
    "\n",
    "svm_params = {'C': [0.1, 1, 10], 'gamma': ['scale', 'auto'], 'kernel': ['rbf', 'poly']}\n",
    "svm_model = GridSearchCV(SVC(), svm_params, cv=StratifiedKFold(n_splits=5), scoring='accuracy', n_jobs=-1)\n",
    "svm_model.fit(X_train, y_train)\n",
    "\n",
    "best_svm = svm_model.best_estimator_\n",
    "print(\"SVM Hyperparameters:\", svm_model.best_params_)\n",
    "train_and_evaluate_model(best_svm, \"SVM\")\n"
   ]
  },
  {
   "cell_type": "code",
   "execution_count": 7,
   "metadata": {},
   "outputs": [
    {
     "name": "stdout",
     "output_type": "stream",
     "text": [
      "Processed images saved to C:\\Users\\mahes\\OneDrive\\Desktop\\projects\\output.jpg\n"
     ]
    }
   ],
   "source": [
    "def process_and_visualize(image_path, save_dir):\n",
    "    \n",
    "    os.makedirs(save_dir, exist_ok=True)\n",
    "\n",
    "\n",
    "    image = cv2.imread(image_path)\n",
    "    if image is None:\n",
    "        print(\"Error: Unable to load image.\")\n",
    "        return\n",
    "\n",
    "\n",
    "    gray_image = cv2.cvtColor(image, cv2.COLOR_BGR2GRAY)\n",
    "\n",
    " \n",
    "    clahe = cv2.createCLAHE(clipLimit=2.0, tileGridSize=(8, 8))\n",
    "    clahe_image = clahe.apply(gray_image)\n",
    "\n",
    "\n",
    "    clahe_path = os.path.join(save_dir, \"clahe_image.jpg\")\n",
    "    cv2.imwrite(clahe_path, clahe_image)\n",
    "\n",
    "\n",
    "    radius = 2\n",
    "    n_points = 8 * radius\n",
    "    lbp_image = local_binary_pattern(clahe_image, n_points, radius, method='uniform')\n",
    "\n",
    "\n",
    "    lbp_image_normalized = np.uint8(255 * lbp_image / lbp_image.max())\n",
    "    \n",
    "    lbp_path = os.path.join(save_dir, \"lbp_image.jpg\")\n",
    "    cv2.imwrite(lbp_path, lbp_image_normalized)\n",
    "\n",
    "\n",
    "    hog_features, hog_image = hog(clahe_image, orientations=9, pixels_per_cell=(8, 8),\n",
    "                                  cells_per_block=(2, 2), block_norm='L2-Hys', visualize=True)\n",
    "\n",
    " \n",
    "    hog_path = os.path.join(save_dir, \"hog_image.jpg\")\n",
    "    hog_image_normalized = np.uint8(255 * hog_image / hog_image.max())\n",
    "    cv2.imwrite(hog_path, hog_image_normalized)\n",
    "\n",
    " \n",
    "    cv2.imshow(\"Original Image\", gray_image)\n",
    "    cv2.imshow(\"CLAHE Enhanced Image\", clahe_image)\n",
    "    cv2.imshow(\"LBP Image\", lbp_image_normalized)\n",
    "    cv2.imshow(\"HOG Image\", hog_image_normalized)\n",
    "    \n",
    "    cv2.waitKey(0)\n",
    "    cv2.destroyAllWindows()\n",
    "\n",
    "  \n",
    "    print(f\"Processed images saved to {save_dir}\")\n",
    "\n",
    "\n",
    "image_path = r\"C:\\Users\\mahes\\OneDrive\\Desktop\\projects\\sample.jpg\"  \n",
    "save_dir = r\"C:\\Users\\mahes\\OneDrive\\Desktop\\projects\\output.jpg\"   \n",
    "process_and_visualize(image_path, save_dir)\n"
   ]
  }
 ],
 "metadata": {
  "kernelspec": {
   "display_name": "Python 3",
   "language": "python",
   "name": "python3"
  },
  "language_info": {
   "codemirror_mode": {
    "name": "ipython",
    "version": 3
   },
   "file_extension": ".py",
   "mimetype": "text/x-python",
   "name": "python",
   "nbconvert_exporter": "python",
   "pygments_lexer": "ipython3",
   "version": "3.12.6"
  }
 },
 "nbformat": 4,
 "nbformat_minor": 2
}
