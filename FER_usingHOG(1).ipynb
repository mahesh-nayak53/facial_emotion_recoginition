{
 "cells": [
  {
   "cell_type": "code",
   "execution_count": 11,
   "metadata": {},
   "outputs": [],
   "source": [
    "import cv2\n",
    "import numpy as np\n",
    "import os\n",
    "from sklearn.preprocessing import LabelEncoder\n",
    "from sklearn.svm import SVC\n",
    "from sklearn.metrics import accuracy_score\n",
    "from sklearn.ensemble import RandomForestClassifier"
   ]
  },
  {
   "cell_type": "markdown",
   "metadata": {},
   "source": [
    "loading the data"
   ]
  },
  {
   "cell_type": "code",
   "execution_count": 12,
   "metadata": {},
   "outputs": [],
   "source": [
    "\n",
    "def load_data(folder_path, img_size=(48, 48)):\n",
    "    images, labels = [], []\n",
    "    for label in os.listdir(folder_path):\n",
    "        label_path = os.path.join(folder_path, label)\n",
    "        if os.path.isdir(label_path):\n",
    "            for file in os.listdir(label_path):\n",
    "                file_path = os.path.join(label_path, file)\n",
    "                img = cv2.imread(file_path, cv2.IMREAD_GRAYSCALE)\n",
    "                if img is not None:\n",
    "                    images.append(cv2.resize(img, img_size))\n",
    "                    labels.append(label)\n",
    "    return images, labels\n"
   ]
  },
  {
   "cell_type": "markdown",
   "metadata": {},
   "source": [
    "computing hog features for an image"
   ]
  },
  {
   "cell_type": "code",
   "execution_count": 13,
   "metadata": {},
   "outputs": [],
   "source": [
    "def compute_hog_features(img, cell_size=(4, 4), block_size=(3, 3), block_stride_factor=2, nbins=12):\n",
    "    blockStride = (cell_size[0] // block_stride_factor, cell_size[1] // block_stride_factor)\n",
    "    \n",
    "    hog = cv2.HOGDescriptor(_winSize=img.shape[:2],\n",
    "                            _blockSize=(block_size[0] * cell_size[0], block_size[1] * cell_size[1]),\n",
    "                            _blockStride=blockStride,\n",
    "                            _cellSize=(cell_size[0], cell_size[1]),\n",
    "                            _nbins=nbins)\n",
    "    return hog.compute(img).flatten()\n",
    "\n"
   ]
  },
  {
   "cell_type": "markdown",
   "metadata": {},
   "source": [
    "Extracting features from images"
   ]
  },
  {
   "cell_type": "code",
   "execution_count": 9,
   "metadata": {},
   "outputs": [],
   "source": [
    "def extract_features(images):\n",
    "\n",
    "    images_uint8 = [np.uint8(img * 255) if img.max() <= 1 else img for img in images]\n",
    "    return np.array([compute_hog_features(img) for img in images_uint8])\n",
    "\n",
    "\n",
    "def resize_images(images, target_size=(48, 48)):\n",
    "    return [cv2.resize(img, target_size, interpolation=cv2.INTER_AREA) for img in images]\n",
    "\n",
    "def normalize_images(images):\n",
    "    return [img / 255.0 for img in images]\n",
    "\n",
    "def apply_clahe(images):\n",
    "    clahe = cv2.createCLAHE(clipLimit=4.0, tileGridSize=(8, 8))\n",
    "    return [clahe.apply(img) for img in images]\n",
    "\n",
    "def denoise_images(images):\n",
    "    return [cv2.GaussianBlur(img, (5, 5), 0) for img in images]\n",
    "\n",
    "def correct_illumination(images):\n",
    "    corrected_images = []\n",
    "    for img in images:\n",
    "        img_blur = cv2.GaussianBlur(img, (21, 21), 0)\n",
    "        img_corrected = cv2.addWeighted(img, 4, img_blur, -4, 128)\n",
    "        corrected_images.append(img_corrected)\n",
    "    return corrected_images\n",
    "\n",
    "def preprocess_images(images):\n",
    "    images = resize_images(images, target_size=(48, 48))\n",
    "    images = apply_clahe(images) \n",
    "    images = denoise_images(images)\n",
    "    images = correct_illumination(images)\n",
    "    images = normalize_images(images)  \n",
    "    return images\n",
    "\n",
    "train_path = r\"E:\\cccc\\DATASET2\\DATASET\\train\"\n",
    "test_path = r\"E:\\cccc\\DATASET2\\DATASET\\test\"\n",
    "\n",
    "train_images, train_labels = load_data(train_path)\n",
    "test_images, test_labels = load_data(test_path)\n",
    "\n",
    "train_images = preprocess_images(train_images)\n",
    "test_images = preprocess_images(test_images)\n",
    "\n",
    "label_encoder = LabelEncoder()\n",
    "train_labels_encoded = label_encoder.fit_transform(train_labels)\n",
    "test_labels_encoded = label_encoder.transform(test_labels)\n",
    "\n",
    "train_features = extract_features(train_images)\n",
    "test_features = extract_features(test_images)\n",
    "\n",
    "\n",
    "model = SVC(kernel='linear', probability=True)\n",
    "model.fit(train_features, train_labels_encoded)\n",
    "predictions = model.predict(test_features)\n"
   ]
  },
  {
   "cell_type": "markdown",
   "metadata": {},
   "source": [
    "CALCULATING THE ACCURACY"
   ]
  },
  {
   "cell_type": "code",
   "execution_count": null,
   "metadata": {},
   "outputs": [
    {
     "name": "stdout",
     "output_type": "stream",
     "text": [
      "Accuracy: 63.78%\n"
     ]
    }
   ],
   "source": [
    "accuracy = accuracy_score(test_labels_encoded, predictions)\n",
    "print(f\"Accuracy: {accuracy * 100:.2f}%\")"
   ]
  }
 ],
 "metadata": {
  "kernelspec": {
   "display_name": "Python 3",
   "language": "python",
   "name": "python3"
  },
  "language_info": {
   "codemirror_mode": {
    "name": "ipython",
    "version": 3
   },
   "file_extension": ".py",
   "mimetype": "text/x-python",
   "name": "python",
   "nbconvert_exporter": "python",
   "pygments_lexer": "ipython3",
   "version": "3.13.0"
  }
 },
 "nbformat": 4,
 "nbformat_minor": 2
}
